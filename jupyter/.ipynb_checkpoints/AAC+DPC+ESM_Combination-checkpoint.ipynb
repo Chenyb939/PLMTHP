{
 "cells": [
  {
   "cell_type": "code",
   "execution_count": 1,
   "metadata": {
    "tags": []
   },
   "outputs": [],
   "source": [
    "import torch"
   ]
  },
  {
   "cell_type": "markdown",
   "metadata": {
    "tags": []
   },
   "source": [
    "Load AAC,DPC and ESM features of THPs and combine them(Please change your paths)"
   ]
  },
  {
   "cell_type": "code",
   "execution_count": 2,
   "metadata": {
    "tags": []
   },
   "outputs": [],
   "source": [
    "aac = torch.load(\"C:\\\\Windows\\\\System32\\\\PLMTHP\\\\data\\\\Feature\\\\aac_pos.pt\")\n",
    "dpc = torch.load(\"C:\\\\Windows\\\\System32\\\\PLMTHP\\\\data\\\\Feature\\\\dpc_pos.pt\")\n",
    "esm = torch.load(\"C:\\\\Windows\\\\System32\\\\PLMTHP\\\\data\\\\Feature\\\\pos_esm.pt\")\n",
    "pos_ad = torch.cat((aac,dpc),1)\n",
    "pos_ade = torch.cat((pos_ad,esm),1)\n",
    "torch.save(pos_ade, 'C:\\\\Windows\\\\System32\\\\PLMTHP\\\\data\\\\Feature\\\\pos_ade.pt')\n"
   ]
  },
  {
   "cell_type": "markdown",
   "metadata": {
    "tags": []
   },
   "source": [
    "Load AAC,DPC and ESM features of non_THPs and combine them(Please change your paths)"
   ]
  },
  {
   "cell_type": "code",
   "execution_count": 3,
   "metadata": {
    "tags": []
   },
   "outputs": [],
   "source": [
    "aac = torch.load(\"C:\\\\Windows\\\\System32\\\\PLMTHP\\\\data\\\\Feature\\\\aac_neg.pt\")\n",
    "dpc = torch.load(\"C:\\\\Windows\\\\System32\\\\PLMTHP\\\\data\\\\Feature\\\\dpc_neg.pt\")\n",
    "esm = torch.load(\"C:\\\\Windows\\\\System32\\\\PLMTHP\\\\data\\\\Feature\\\\neg_esm.pt\")\n",
    "neg_ad = torch.cat((aac,dpc),1)\n",
    "neg_ade = torch.cat((neg_ad,esm),1)\n",
    "torch.save(neg_ade, 'C:\\\\Windows\\\\System32\\\\PLMTHP\\\\data\\\\Feature\\\\neg_ade.pt')\n"
   ]
  },
  {
   "cell_type": "markdown",
   "metadata": {},
   "source": [
    "Check the shape of feature ADE( * ,2980)"
   ]
  },
  {
   "cell_type": "code",
   "execution_count": 4,
   "metadata": {},
   "outputs": [
    {
     "name": "stdout",
     "output_type": "stream",
     "text": [
      "torch.Size([651, 2980])\n",
      "torch.Size([651, 2980])\n"
     ]
    }
   ],
   "source": [
    "print(pos_ade.shape)\n",
    "print(neg_ade.shape)\n"
   ]
  },
  {
   "cell_type": "code",
   "execution_count": null,
   "metadata": {},
   "outputs": [],
   "source": []
  }
 ],
 "metadata": {
  "kernelspec": {
   "display_name": "Python 3 (ipykernel)",
   "language": "python",
   "name": "python3"
  },
  "language_info": {
   "codemirror_mode": {
    "name": "ipython",
    "version": 3
   },
   "file_extension": ".py",
   "mimetype": "text/x-python",
   "name": "python",
   "nbconvert_exporter": "python",
   "pygments_lexer": "ipython3",
   "version": "3.7.6"
  }
 },
 "nbformat": 4,
 "nbformat_minor": 4
}
