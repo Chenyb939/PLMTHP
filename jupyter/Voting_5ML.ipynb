{
 "cells": [
  {
   "cell_type": "code",
   "execution_count": 2,
   "metadata": {
    "tags": []
   },
   "outputs": [],
   "source": [
    "import numpy as np\n",
    "import pandas as pd\n",
    "from sklearn import model_selection\n",
    "from sklearn.model_selection import train_test_split\n",
    "from sklearn.metrics import roc_auc_score\n",
    "from sklearn.metrics import roc_auc_score\n",
    "from sklearn.neighbors import KNeighborsClassifier\n",
    "from sklearn.neural_network import MLPClassifier\n",
    "from sklearn.naive_bayes import GaussianNB\n",
    "from sklearn.svm import SVC\n",
    "from sklearn.ensemble import VotingClassifier\n",
    "import math\n",
    "import torch\n",
    "import warnings\n",
    "warnings.filterwarnings(\"ignore\")\n"
   ]
  },
  {
   "cell_type": "markdown",
   "metadata": {},
   "source": [
    "Cross-Validation on the train dataset"
   ]
  },
  {
   "cell_type": "code",
   "execution_count": 2,
   "metadata": {
    "tags": []
   },
   "outputs": [],
   "source": [
    "def cv(clf, X, y, nr_fold):\n",
    "    ix = []\n",
    "    for i in range(0, len(y)):\n",
    "        ix.append(i)\n",
    "    ix = np.array(ix)\n",
    "    \n",
    "    allACC = []\n",
    "    allSENS = []\n",
    "    allSPEC = []\n",
    "    allMCC = []\n",
    "    allAUC = []\n",
    "    for j in range(0, nr_fold):\n",
    "        train_ix = ((ix % nr_fold) != j)\n",
    "        test_ix = ((ix % nr_fold) == j)\n",
    "        train_X, test_X = X[train_ix], X[test_ix]\n",
    "        train_y, test_y = y[train_ix], y[test_ix]\n",
    "        clf.fit(train_X, train_y)        \n",
    "        p = clf.predict(test_X)\n",
    "        pr = clf.predict_proba(test_X)[:,1]   \n",
    "        TP=0   \n",
    "        FP=0\n",
    "        TN=0\n",
    "        FN=0\n",
    "        for i in range(0,len(test_y)):\n",
    "            if test_y[i]==1 and p[i]==1:\n",
    "                TP+= 1\n",
    "            elif test_y[i]==1 and p[i]==0:\n",
    "                FN+= 1\n",
    "            elif test_y[i]==0 and p[i]==1:\n",
    "                FP+= 1\n",
    "            elif test_y[i]==0 and p[i]==0:\n",
    "                TN+= 1\n",
    "        ACC = (TP+TN)/(TP+FP+TN+FN)\n",
    "        SENS = TP/(TP+FN)\n",
    "        SPEC = TN/(TN+FP)\n",
    "        det = math.sqrt((TP+FP)*(TP+FN)*(TN+FP)*(TN+FN))\n",
    "        if (det == 0):            \n",
    "            MCC = 0                \n",
    "        else:\n",
    "            MCC = ((TP*TN)-(FP*FN))/det\n",
    "        AUC = roc_auc_score(test_y, pr)\n",
    "             \n",
    "        allACC.append(ACC)\n",
    "        allSENS.append(SENS)\n",
    "        allSPEC.append(SPEC)\n",
    "        allMCC.append(MCC)\n",
    "        allAUC.append(AUC)\n",
    "           \n",
    "    return np.mean(allACC), np.mean(allSENS), np.mean(allSPEC), np.mean(allMCC), np.mean(allAUC)"
   ]
  },
  {
   "cell_type": "markdown",
   "metadata": {},
   "source": [
    "Independent test on the test dataset"
   ]
  },
  {
   "cell_type": "code",
   "execution_count": 3,
   "metadata": {
    "tags": []
   },
   "outputs": [],
   "source": [
    "def test(clf, X, y, Xt, yt):\n",
    "    train_X, test_X = X, Xt\n",
    "    train_y, test_y = y, yt        \n",
    "    p = clf.predict(test_X)\n",
    "    pr = clf.predict_proba(test_X)[:,1]   \n",
    "    TP=0   \n",
    "    FP=0\n",
    "    TN=0\n",
    "    FN=0\n",
    "    for i in range(0,len(test_y)):\n",
    "        if test_y[i]==1 and p[i]==1:\n",
    "            TP+= 1\n",
    "        elif test_y[i]==1 and p[i]==0:\n",
    "            FN+= 1\n",
    "        elif test_y[i]==0 and p[i]==1:\n",
    "            FP+= 1\n",
    "        elif test_y[i]==0 and p[i]==0:\n",
    "            TN+= 1\n",
    "    ACC = (TP+TN)/(TP+FP+TN+FN)\n",
    "    SENS = TP/(TP+FN)\n",
    "    SPEC = TN/(TN+FP)\n",
    "    det = math.sqrt((TP+FP)*(TP+FN)*(TN+FP)*(TN+FN))\n",
    "    if (det == 0):            \n",
    "        MCC = 0                \n",
    "    else:\n",
    "        MCC = ((TP*TN)-(FP*FN))/det\n",
    "    AUC = roc_auc_score(test_y, pr)\n",
    " \n",
    "    return ACC, SENS, SPEC, MCC, AUC"
   ]
  },
  {
   "cell_type": "markdown",
   "metadata": {},
   "source": [
    "Load dataset and split the dataset(Please change your paths)"
   ]
  },
  {
   "cell_type": "code",
   "execution_count": 4,
   "metadata": {
    "tags": []
   },
   "outputs": [],
   "source": [
    "pos_ade = torch.load(\"C:\\\\Windows\\\\System32\\\\PLMTHP\\\\data\\\\Feature\\\\pos_ade.pt\")\n",
    "neg_ade = torch.load(\"C:\\\\Windows\\\\System32\\\\PLMTHP\\\\data\\\\Feature\\\\neg_ade.pt\")\n",
    "\n",
    "pos = pos_ade.numpy()\n",
    "neg = neg_ade.numpy()\n",
    "\n",
    "all_data = np.concatenate((pos, neg), axis=0)\n",
    "X = all_data\n",
    "y=np.zeros(1302,dtype=int)\n",
    "for i in range(1302):\n",
    "    if i<651:\n",
    "        y[i]=1\n",
    "    else:\n",
    "        y[i]=0\n",
    "\n",
    "X_train, X_test, y_train, y_test = train_test_split(X, y, test_size=0.15, random_state=42)\n",
    "X=X_train\n",
    "y=y_train\n",
    "Xt=X_test\n",
    "yt=y_test\n",
    "\n",
    "del pos_ade,neg_ade,pos,neg,all_data"
   ]
  },
  {
   "cell_type": "markdown",
   "metadata": {
    "tags": []
   },
   "source": [
    "5ML classifiers cross-validation evaluation and independent test evaluation"
   ]
  },
  {
   "cell_type": "code",
   "execution_count": 6,
   "metadata": {
    "tags": []
   },
   "outputs": [
    {
     "name": "stdout",
     "output_type": "stream",
     "text": [
      "ACC:0.8245945945945946\n",
      "SENS:0.7888477215290215\n",
      "SPEC:0.8594419487263991\n",
      "MCC:0.6490361758120748\n",
      "AUC:0.9082641538194066\n",
      "\n",
      "ACC:0.826530612244898\n",
      "SENS:0.7941176470588235\n",
      "SPEC:0.8617021276595744\n",
      "MCC:0.655819774718398\n",
      "AUC:0.916875260742595\n",
      "\n"
     ]
    }
   ],
   "source": [
    "KNN = KNeighborsClassifier(n_neighbors=14)\n",
    "acc, sens, spec, mcc, auc = cv(KNN, X, y, 10) \n",
    "print(\"ACC:\"+str(acc)+\"\\n\"+\"SENS:\"+str(sens)+\"\\n\"+\"SPEC:\"+str(spec)+\"\\n\"+\"MCC:\"+str(mcc)+\"\\n\"+\"AUC:\"+str(auc)+\"\\n\")\n",
    "acc, sens, spec, mcc, auc = test(KNN, X, y, Xt, yt) \n",
    "print(\"ACC:\"+str(acc)+\"\\n\"+\"SENS:\"+str(sens)+\"\\n\"+\"SPEC:\"+str(spec)+\"\\n\"+\"MCC:\"+str(mcc)+\"\\n\"+\"AUC:\"+str(auc)+\"\\n\")\n"
   ]
  },
  {
   "cell_type": "code",
   "execution_count": 7,
   "metadata": {
    "tags": []
   },
   "outputs": [
    {
     "name": "stdout",
     "output_type": "stream",
     "text": [
      "ACC:0.8427190827190827\n",
      "SENS:0.836464368203526\n",
      "SPEC:0.8468680526636054\n",
      "MCC:0.6856541985889383\n",
      "AUC:0.9210426418572805\n",
      "\n",
      "ACC:0.8469387755102041\n",
      "SENS:0.8921568627450981\n",
      "SPEC:0.7978723404255319\n",
      "MCC:0.6946817915866508\n",
      "AUC:0.9207342511472674\n",
      "\n"
     ]
    }
   ],
   "source": [
    "MLP = MLPClassifier(hidden_layer_sizes=(8,),random_state=0)\n",
    "acc, sens, spec, mcc, auc = cv(MLP, X, y, 10) \n",
    "print(\"ACC:\"+str(acc)+\"\\n\"+\"SENS:\"+str(sens)+\"\\n\"+\"SPEC:\"+str(spec)+\"\\n\"+\"MCC:\"+str(mcc)+\"\\n\"+\"AUC:\"+str(auc)+\"\\n\")\n",
    "acc, sens, spec, mcc, auc = test(MLP, X, y, Xt, yt) \n",
    "print(\"ACC:\"+str(acc)+\"\\n\"+\"SENS:\"+str(sens)+\"\\n\"+\"SPEC:\"+str(spec)+\"\\n\"+\"MCC:\"+str(mcc)+\"\\n\"+\"AUC:\"+str(auc)+\"\\n\")\n"
   ]
  },
  {
   "cell_type": "code",
   "execution_count": 8,
   "metadata": {
    "tags": []
   },
   "outputs": [
    {
     "name": "stdout",
     "output_type": "stream",
     "text": [
      "ACC:0.8055937755937757\n",
      "SENS:0.7935390744999018\n",
      "SPEC:0.8150182769699622\n",
      "MCC:0.6078674713743701\n",
      "AUC:0.8368052994819708\n",
      "\n",
      "ACC:0.8163265306122449\n",
      "SENS:0.7941176470588235\n",
      "SPEC:0.8404255319148937\n",
      "MCC:0.6341464654751245\n",
      "AUC:0.8559136420525657\n",
      "\n"
     ]
    }
   ],
   "source": [
    "NB = GaussianNB()\n",
    "acc, sens, spec, mcc, auc = cv(NB, X, y, 10) \n",
    "print(\"ACC:\"+str(acc)+\"\\n\"+\"SENS:\"+str(sens)+\"\\n\"+\"SPEC:\"+str(spec)+\"\\n\"+\"MCC:\"+str(mcc)+\"\\n\"+\"AUC:\"+str(auc)+\"\\n\")\n",
    "acc, sens, spec, mcc, auc = test(NB, X, y, Xt, yt) \n",
    "print(\"ACC:\"+str(acc)+\"\\n\"+\"SENS:\"+str(sens)+\"\\n\"+\"SPEC:\"+str(spec)+\"\\n\"+\"MCC:\"+str(mcc)+\"\\n\"+\"AUC:\"+str(auc)+\"\\n\")\n"
   ]
  },
  {
   "cell_type": "code",
   "execution_count": 9,
   "metadata": {
    "tags": []
   },
   "outputs": [
    {
     "name": "stdout",
     "output_type": "stream",
     "text": [
      "ACC:0.8346027846027846\n",
      "SENS:0.8252496156358322\n",
      "SPEC:0.842045155386239\n",
      "MCC:0.6688529181690135\n",
      "AUC:0.918059324163236\n",
      "\n",
      "ACC:0.8112244897959183\n",
      "SENS:0.8333333333333334\n",
      "SPEC:0.7872340425531915\n",
      "MCC:0.6216380756293769\n",
      "AUC:0.9216729244889446\n",
      "\n"
     ]
    }
   ],
   "source": [
    "SVMLN = SVC(C=1,kernel='linear',gamma=1, probability=True, random_state=0)\n",
    "acc, sens, spec, mcc, auc = cv(SVMLN, X, y, 10) \n",
    "print(\"ACC:\"+str(acc)+\"\\n\"+\"SENS:\"+str(sens)+\"\\n\"+\"SPEC:\"+str(spec)+\"\\n\"+\"MCC:\"+str(mcc)+\"\\n\"+\"AUC:\"+str(auc)+\"\\n\")\n",
    "acc, sens, spec, mcc, auc = test(SVMLN, X, y, Xt, yt) \n",
    "print(\"ACC:\"+str(acc)+\"\\n\"+\"SENS:\"+str(sens)+\"\\n\"+\"SPEC:\"+str(spec)+\"\\n\"+\"MCC:\"+str(mcc)+\"\\n\"+\"AUC:\"+str(auc)+\"\\n\")\n"
   ]
  },
  {
   "cell_type": "code",
   "execution_count": 10,
   "metadata": {
    "tags": []
   },
   "outputs": [
    {
     "name": "stdout",
     "output_type": "stream",
     "text": [
      "ACC:0.8427108927108927\n",
      "SENS:0.8325814927646558\n",
      "SPEC:0.8490179324581163\n",
      "MCC:0.6837289836244743\n",
      "AUC:0.917464412042483\n",
      "\n",
      "ACC:0.8520408163265306\n",
      "SENS:0.8627450980392157\n",
      "SPEC:0.8404255319148937\n",
      "MCC:0.7035008862368752\n",
      "AUC:0.9187526074259491\n",
      "\n"
     ]
    }
   ],
   "source": [
    "SVMRBF = SVC(C=10,kernel='rbf',gamma=0.1, probability=True, random_state=0)\n",
    "acc, sens, spec, mcc, auc = cv(SVMRBF, X, y, 10) \n",
    "print(\"ACC:\"+str(acc)+\"\\n\"+\"SENS:\"+str(sens)+\"\\n\"+\"SPEC:\"+str(spec)+\"\\n\"+\"MCC:\"+str(mcc)+\"\\n\"+\"AUC:\"+str(auc)+\"\\n\")\n",
    "acc, sens, spec, mcc, auc = test(SVMRBF, X, y, Xt, yt) \n",
    "print(\"ACC:\"+str(acc)+\"\\n\"+\"SENS:\"+str(sens)+\"\\n\"+\"SPEC:\"+str(spec)+\"\\n\"+\"MCC:\"+str(mcc)+\"\\n\"+\"AUC:\"+str(auc)+\"\\n\")\n"
   ]
  },
  {
   "cell_type": "code",
   "execution_count": 5,
   "metadata": {
    "tags": []
   },
   "outputs": [
    {
     "name": "stdout",
     "output_type": "stream",
     "text": [
      "3\n"
     ]
    }
   ],
   "source": [
    "param1 = [0.4 * i for i in np.arange(2, 5, dtype=float)]\n",
    "print(len(param1))"
   ]
  },
  {
   "cell_type": "markdown",
   "metadata": {
    "tags": []
   },
   "source": [
    "Weighted voting ensemble classifiers"
   ]
  },
  {
   "cell_type": "code",
   "execution_count": 12,
   "metadata": {
    "tags": []
   },
   "outputs": [],
   "source": [
    "estimators = [(\"KNN\", KNN), (\"MLP\",MLP), (\"NB\", NB), (\"SVMLN\", SVMLN), (\"SVMRBF\", SVMRBF)]\n",
    "clf_weighted3 = VotingClassifier(estimators,voting=\"soft\",weights=[1.0,1.2,0.6,1.1,1.1])\n"
   ]
  },
  {
   "cell_type": "markdown",
   "metadata": {},
   "source": [
    "Cross-validation evaluation"
   ]
  },
  {
   "cell_type": "code",
   "execution_count": 13,
   "metadata": {
    "tags": []
   },
   "outputs": [
    {
     "name": "stdout",
     "output_type": "stream",
     "text": [
      "ACC:0.859025389025389\n",
      "SENS:0.8439853677983324\n",
      "SPEC:0.8707009886593202\n",
      "MCC:0.7170917576448932\n",
      "AUC:0.9262864055025499\n",
      "\n"
     ]
    }
   ],
   "source": [
    "acc, sens, spec, mcc, auc = cv(clf_weighted3, X, y, 10) \n",
    "print(\"ACC:\"+str(acc)+\"\\n\"+\"SENS:\"+str(sens)+\"\\n\"+\"SPEC:\"+str(spec)+\"\\n\"+\"MCC:\"+str(mcc)+\"\\n\"+\"AUC:\"+str(auc)+\"\\n\")\n"
   ]
  },
  {
   "cell_type": "markdown",
   "metadata": {
    "tags": []
   },
   "source": [
    "Independent test evaluation"
   ]
  },
  {
   "cell_type": "code",
   "execution_count": 15,
   "metadata": {
    "tags": []
   },
   "outputs": [
    {
     "name": "stdout",
     "output_type": "stream",
     "text": [
      "ACC:0.8367346938775511\n",
      "SENS:0.8529411764705882\n",
      "SPEC:0.8191489361702128\n",
      "MCC:0.6727921812670322\n",
      "AUC:0.9307467667918231\n",
      "\n"
     ]
    }
   ],
   "source": [
    "acc, sens, spec, mcc, auc = test(clf_weighted3, X, y, Xt, yt) \n",
    "print(\"ACC:\"+str(acc)+\"\\n\"+\"SENS:\"+str(sens)+\"\\n\"+\"SPEC:\"+str(spec)+\"\\n\"+\"MCC:\"+str(mcc)+\"\\n\"+\"AUC:\"+str(auc)+\"\\n\")\n"
   ]
  },
  {
   "cell_type": "code",
   "execution_count": null,
   "metadata": {},
   "outputs": [],
   "source": []
  }
 ],
 "metadata": {
  "kernelspec": {
   "display_name": "Python 3 (ipykernel)",
   "language": "python",
   "name": "python3"
  },
  "language_info": {
   "codemirror_mode": {
    "name": "ipython",
    "version": 3
   },
   "file_extension": ".py",
   "mimetype": "text/x-python",
   "name": "python",
   "nbconvert_exporter": "python",
   "pygments_lexer": "ipython3",
   "version": "3.7.6"
  }
 },
 "nbformat": 4,
 "nbformat_minor": 4
}
