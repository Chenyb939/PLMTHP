{
 "cells": [
  {
   "cell_type": "code",
   "execution_count": 1,
   "metadata": {
    "tags": []
   },
   "outputs": [],
   "source": [
    "import torch\n",
    "import numpy"
   ]
  },
  {
   "cell_type": "markdown",
   "metadata": {},
   "source": [
    "Combine THPs' ESM features(Please change your paths)"
   ]
  },
  {
   "cell_type": "code",
   "execution_count": 2,
   "metadata": {
    "tags": []
   },
   "outputs": [
    {
     "name": "stdout",
     "output_type": "stream",
     "text": [
      "pos-pep\n"
     ]
    },
    {
     "name": "stderr",
     "output_type": "stream",
     "text": [
      "d:\\python3.7.6\\lib\\site-packages\\ipykernel_launcher.py:8: UserWarning: Creating a tensor from a list of numpy.ndarrays is extremely slow. Please consider converting the list to a single numpy.ndarray with numpy.array() before converting to a tensor. (Triggered internally at C:\\actions-runner\\_work\\pytorch\\pytorch\\builder\\windows\\pytorch\\torch\\csrc\\utils\\tensor_new.cpp:233.)\n",
      "  \n"
     ]
    }
   ],
   "source": [
    "print(\"pos-pep\")\n",
    "lt = []\n",
    "for i in range(1,652):\n",
    "    ESM_dict = torch.load(\"C:\\\\Windows\\\\System32\\\\PLMTHP\\\\data\\\\Feature\\\\ESM3B\\\\pos-pep%d.pt\"%(i))\n",
    "    pos = ESM_dict['representations'][36].mean(axis=0)\n",
    "    tensor_list = pos.numpy()\n",
    "    lt.append(tensor_list)\n",
    "ESM_pos = torch.tensor(lt)\n",
    "torch.save(ESM_pos, 'C:\\\\Windows\\\\System32\\\\PLMTHP\\\\data\\\\Feature\\\\pos_esm.pt')\n"
   ]
  },
  {
   "cell_type": "markdown",
   "metadata": {},
   "source": [
    "Combine non_THPs' ESM features(Please change your paths)"
   ]
  },
  {
   "cell_type": "code",
   "execution_count": 3,
   "metadata": {
    "tags": []
   },
   "outputs": [
    {
     "name": "stdout",
     "output_type": "stream",
     "text": [
      "neg-pep\n"
     ]
    }
   ],
   "source": [
    "print(\"neg-pep\") \n",
    "lt = []\n",
    "for i in range(1,652):\n",
    "    ESM_dict = torch.load(\"C:\\\\Windows\\\\System32\\\\PLMTHP\\\\data\\\\Feature\\\\ESM3B\\\\neg-pep%d.pt\"%(i))\n",
    "    neg = ESM_dict['representations'][36].mean(axis=0)\n",
    "    tensor_list = neg.numpy()\n",
    "    lt.append(tensor_list)  \n",
    "ESM_neg = torch.tensor(lt)  \n",
    "torch.save(ESM_neg, 'C:\\\\Windows\\\\System32\\\\PLMTHP\\\\data\\\\Feature\\\\neg_esm.pt')\n"
   ]
  },
  {
   "cell_type": "markdown",
   "metadata": {},
   "source": [
    "Check the shape of feature ESM( * ,2560)"
   ]
  },
  {
   "cell_type": "code",
   "execution_count": 4,
   "metadata": {
    "tags": []
   },
   "outputs": [
    {
     "data": {
      "text/plain": [
       "torch.Size([651, 2560])"
      ]
     },
     "execution_count": 4,
     "metadata": {},
     "output_type": "execute_result"
    }
   ],
   "source": [
    "ESM_pos.shape\n",
    "ESM_neg.shape"
   ]
  }
 ],
 "metadata": {
  "kernelspec": {
   "display_name": "Python 3 (ipykernel)",
   "language": "python",
   "name": "python3"
  },
  "language_info": {
   "codemirror_mode": {
    "name": "ipython",
    "version": 3
   },
   "file_extension": ".py",
   "mimetype": "text/x-python",
   "name": "python",
   "nbconvert_exporter": "python",
   "pygments_lexer": "ipython3",
   "version": "3.7.6"
  }
 },
 "nbformat": 4,
 "nbformat_minor": 4
}
