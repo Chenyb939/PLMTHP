{
 "cells": [
  {
   "cell_type": "code",
   "execution_count": 1,
   "metadata": {
    "tags": []
   },
   "outputs": [],
   "source": [
    "import re, os, sys\n",
    "import math\n",
    "import numpy as np\n",
    "import torch\n",
    "import numpy\n"
   ]
  },
  {
   "cell_type": "markdown",
   "metadata": {},
   "source": [
    "Read protein sequences in file"
   ]
  },
  {
   "cell_type": "code",
   "execution_count": 2,
   "metadata": {
    "tags": []
   },
   "outputs": [],
   "source": [
    "def read_protein_sequences(file):\n",
    "    if os.path.exists(file) == False:\n",
    "        print('Error: file %s does not exist.' % file)\n",
    "        sys.exit(1)\n",
    "    with open(file) as f:\n",
    "        records = f.read()\n",
    "    if re.search('>', records) == None:\n",
    "        print('Error: the input file %s seems not in FASTA format!' % file)\n",
    "        sys.exit(1)\n",
    "    records = records.split('>')[1:]\n",
    "    fasta_sequences = []\n",
    "    for fasta in records:\n",
    "        array = fasta.split('\\n')\n",
    "        header, sequence = array[0].split()[0], re.sub('[^ACDEFGHIKLMNPQRSTVWY-]', '-', ''.join(array[1:]).upper())\n",
    "        header_array = header.split('|')\n",
    "        name = header_array[0]\n",
    "        fasta_sequences.append([name, sequence])\n",
    "    return fasta_sequences\n"
   ]
  },
  {
   "cell_type": "markdown",
   "metadata": {
    "tags": []
   },
   "source": [
    "Extract the AAC feature"
   ]
  },
  {
   "cell_type": "code",
   "execution_count": 4,
   "metadata": {
    "tags": []
   },
   "outputs": [],
   "source": [
    "def AAC(fastas, gap, **kw):\n",
    "    AA = 'ACDEFGHIKLMNPQRSTVWY'\n",
    "    encodings = []\n",
    "    AAComposition = [aa for aa in AA]\n",
    "    header = [] + AAComposition\n",
    "\n",
    "    AADict = {}\n",
    "    for i in range(len(AA)):\n",
    "        AADict[AA[i]] = i\n",
    "\n",
    "    for i in fastas:\n",
    "        name, sequence = i[0], re.sub('-', '', i[1])\n",
    "        code = []\n",
    "        tmpCode = [0] * 20\n",
    "        for j in range(len(sequence) - gap):\n",
    "            c = sequence.count(sequence[j])\n",
    "            tmpCode[AADict[sequence[j]]] = float(c)/len(sequence)\n",
    "        code = code + tmpCode\n",
    "        encodings.append(code)\n",
    "    return np.array(encodings, dtype=float), header\n"
   ]
  },
  {
   "cell_type": "markdown",
   "metadata": {},
   "source": [
    "Load data and feature extraction(Please change your paths)"
   ]
  },
  {
   "cell_type": "code",
   "execution_count": 5,
   "metadata": {
    "tags": []
   },
   "outputs": [],
   "source": [
    "datapos=read_protein_sequences(\"C:\\\\Windows\\\\System32\\\\PLMTHP\\\\data\\\\Raw data\\\\THP.txt\")\n",
    "pos, header = AAC(datapos,0)\n",
    "aac_pos = torch.tensor(pos)\n",
    "torch.save(aac_pos, 'C:\\\\Windows\\\\System32\\\\PLMTHP\\\\data\\\\Feature\\\\aac_pos.pt')\n",
    "\n",
    "dataneg=read_protein_sequences(\"C:\\\\Windows\\\\System32\\\\PLMTHP\\\\data\\\\Raw data\\\\non_THP.txt\")\n",
    "neg, header = AAC(dataneg,0)\n",
    "aac_neg = torch.tensor(neg)\n",
    "torch.save(aac_neg, 'C:\\\\Windows\\\\System32\\\\PLMTHP\\\\data\\\\Feature\\\\aac_neg.pt')\n"
   ]
  },
  {
   "cell_type": "markdown",
   "metadata": {},
   "source": [
    "Check the shape of feature AAC( * ,20)"
   ]
  },
  {
   "cell_type": "code",
   "execution_count": 8,
   "metadata": {
    "tags": []
   },
   "outputs": [
    {
     "name": "stdout",
     "output_type": "stream",
     "text": [
      "torch.Size([651, 20])\n",
      "torch.Size([651, 20])\n"
     ]
    }
   ],
   "source": [
    "print(aac_pos.shape)\n",
    "print(aac_neg.shape)"
   ]
  },
  {
   "cell_type": "code",
   "execution_count": null,
   "metadata": {},
   "outputs": [],
   "source": []
  }
 ],
 "metadata": {
  "kernelspec": {
   "display_name": "Python 3 (ipykernel)",
   "language": "python",
   "name": "python3"
  },
  "language_info": {
   "codemirror_mode": {
    "name": "ipython",
    "version": 3
   },
   "file_extension": ".py",
   "mimetype": "text/x-python",
   "name": "python",
   "nbconvert_exporter": "python",
   "pygments_lexer": "ipython3",
   "version": "3.7.6"
  }
 },
 "nbformat": 4,
 "nbformat_minor": 4
}
