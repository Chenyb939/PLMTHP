{
 "cells": [
  {
   "cell_type": "code",
   "execution_count": 8,
   "metadata": {},
   "outputs": [],
   "source": [
    "import numpy as np\n",
    "import pandas as pd\n",
    "from sklearn import model_selection\n",
    "from sklearn.model_selection import train_test_split\n",
    "from sklearn.metrics import accuracy_score, f1_score, roc_auc_score\n",
    "import matplotlib.pyplot as plt\n",
    "import re, os, sys\n",
    "import math\n",
    "import torch\n",
    "from sklearn.neural_network import MLPClassifier\n",
    "import warnings\n",
    "warnings.filterwarnings(\"ignore\")"
   ]
  },
  {
   "cell_type": "markdown",
   "metadata": {},
   "source": [
    "Cross-Validation on the train dataset"
   ]
  },
  {
   "cell_type": "code",
   "execution_count": 2,
   "metadata": {},
   "outputs": [],
   "source": [
    "def cv(clf, X, y, nr_fold):\n",
    "    ix = []\n",
    "    for i in range(0, len(y)):\n",
    "        ix.append(i)\n",
    "    ix = np.array(ix)\n",
    "    \n",
    "    allACC = []\n",
    "    allSENS = []\n",
    "    allSPEC = []\n",
    "    allMCC = []\n",
    "    allAUC = []\n",
    "    \n",
    "    for j in range(0, nr_fold):\n",
    "        \n",
    "        train_ix = ((ix % nr_fold) != j)\n",
    "        test_ix = ((ix % nr_fold) == j)\n",
    "        train_X, test_X = X[train_ix], X[test_ix]\n",
    "        train_y, test_y = y[train_ix], y[test_ix]\n",
    "        clf.fit(train_X, train_y)        \n",
    "        p = clf.predict(test_X)\n",
    "        pr = clf.predict_proba(test_X)[:,1]   \n",
    "        TP=0   \n",
    "        FP=0\n",
    "        TN=0\n",
    "        FN=0\n",
    "        for i in range(0,len(test_y)):\n",
    "            if test_y[i]==1 and p[i]==1:\n",
    "                TP+= 1\n",
    "            elif test_y[i]==1 and p[i]==0:\n",
    "                FN+= 1\n",
    "            elif test_y[i]==0 and p[i]==1:\n",
    "                FP+= 1\n",
    "            elif test_y[i]==0 and p[i]==0:\n",
    "                TN+= 1\n",
    "        ACC = (TP+TN)/(TP+FP+TN+FN)\n",
    "        SENS = TP/(TP+FN)\n",
    "        SPEC = TN/(TN+FP)\n",
    "        det = math.sqrt((TP+FP)*(TP+FN)*(TN+FP)*(TN+FN))\n",
    "        if (det == 0):            \n",
    "            MCC = 0                \n",
    "        else:\n",
    "            MCC = ((TP*TN)-(FP*FN))/det\n",
    "        AUC = roc_auc_score(test_y, pr)\n",
    "        \n",
    "        allACC.append(ACC)\n",
    "        allSENS.append(SENS)\n",
    "        allSPEC.append(SPEC)\n",
    "        allMCC.append(MCC)\n",
    "        allAUC.append(AUC)\n",
    "        \n",
    "    return np.mean(allACC), np.mean(allSENS), np.mean(allSPEC), np.mean(allMCC), np.mean(allAUC)\n"
   ]
  },
  {
   "cell_type": "markdown",
   "metadata": {},
   "source": [
    "Independent test on the test dataset"
   ]
  },
  {
   "cell_type": "code",
   "execution_count": 3,
   "metadata": {},
   "outputs": [],
   "source": [
    "def test(clf, X, y, Xt, yt):\n",
    "    train_X, test_X = X, Xt\n",
    "    train_y, test_y = y, yt      \n",
    "    p = clf.predict(test_X)\n",
    "    pr = clf.predict_proba(test_X)[:,1]   \n",
    "    TP=0   \n",
    "    FP=0\n",
    "    TN=0\n",
    "    FN=0\n",
    "    for i in range(0,len(test_y)):\n",
    "        if test_y[i]==1 and p[i]==1:\n",
    "            TP+= 1\n",
    "        elif test_y[i]==1 and p[i]==0:\n",
    "            FN+= 1\n",
    "        elif test_y[i]==0 and p[i]==1:\n",
    "            FP+= 1\n",
    "        elif test_y[i]==0 and p[i]==0:\n",
    "            TN+= 1\n",
    "    ACC = (TP+TN)/(TP+FP+TN+FN)\n",
    "    SENS = TP/(TP+FN)\n",
    "    SPEC = TN/(TN+FP)\n",
    "    det = math.sqrt((TP+FP)*(TP+FN)*(TN+FP)*(TN+FN))\n",
    "    if (det == 0):            \n",
    "        MCC = 0                \n",
    "    else:\n",
    "        MCC = ((TP*TN)-(FP*FN))/det\n",
    "    AUC = roc_auc_score(test_y, pr)\n",
    "\n",
    "    return ACC, SENS, SPEC, MCC, AUC"
   ]
  },
  {
   "cell_type": "markdown",
   "metadata": {},
   "source": [
    "Load dataset and split the dataset(Please change your paths)"
   ]
  },
  {
   "cell_type": "code",
   "execution_count": 4,
   "metadata": {},
   "outputs": [],
   "source": [
    "pos_ade = torch.load(\"C:\\\\Windows\\\\System32\\\\PLMTHP\\\\data\\\\Feature\\\\pos_ade.pt\")\n",
    "neg_ade = torch.load(\"C:\\\\Windows\\\\System32\\\\PLMTHP\\\\data\\\\Feature\\\\neg_ade.pt\")\n",
    "\n",
    "pos = pos_ade.numpy()\n",
    "neg = neg_ade.numpy()\n",
    "\n",
    "all_data = np.concatenate((pos, neg), axis=0)\n",
    "X = all_data\n",
    "y=np.zeros(1302,dtype=int)\n",
    "for i in range(1302):\n",
    "    if i<651:\n",
    "        y[i]=1\n",
    "    else:\n",
    "        y[i]=0\n",
    "\n",
    "X_train, X_test, y_train, y_test = train_test_split(X, y, test_size=0.15, random_state=42)\n",
    "X=X_train\n",
    "y=y_train\n",
    "Xt=X_test\n",
    "yt=y_test\n",
    "\n",
    "del pos_ade,neg_ade,pos,neg,all_data"
   ]
  },
  {
   "cell_type": "markdown",
   "metadata": {},
   "source": [
    "Tuning the best parameters of mlp classifier and train the model"
   ]
  },
  {
   "cell_type": "code",
   "execution_count": 5,
   "metadata": {},
   "outputs": [
    {
     "name": "stdout",
     "output_type": "stream",
     "text": [
      "Best hidden_layer_sizes:8\n"
     ]
    }
   ],
   "source": [
    "param = [2 ** i for i in np.arange(1,9, dtype=int)]\n",
    "acc = np.zeros(len(param)) \n",
    "sens = np.zeros(len(param)) \n",
    "spec = np.zeros(len(param)) \n",
    "mcc = np.zeros(len(param)) \n",
    "auc = np.zeros(len(param))\n",
    "\n",
    "for i in range(0,len(param)):  \n",
    "    clf = MLPClassifier(hidden_layer_sizes=(param[i],),random_state=0)\n",
    "    acc[i], sens[i], spec[i], mcc[i], auc[i] = cv(clf, X,y,10)\n",
    "choose = np.argmax(auc)\n",
    "clf = MLPClassifier(hidden_layer_sizes=(param[choose],), random_state=0).fit(X,y)\n",
    "print(\"Best hidden_layer_sizes:\"+str(param[choose]))\n"
   ]
  },
  {
   "cell_type": "markdown",
   "metadata": {
    "tags": []
   },
   "source": [
    "Cross-validation evaluation"
   ]
  },
  {
   "cell_type": "code",
   "execution_count": 10,
   "metadata": {
    "tags": []
   },
   "outputs": [
    {
     "name": "stdout",
     "output_type": "stream",
     "text": [
      "ACC:0.8427190827190827\n",
      "SENS:0.836464368203526\n",
      "SPEC:0.8468680526636054\n",
      "MCC:0.6856541985889383\n",
      "AUC:0.9210426418572805\n",
      "\n"
     ]
    }
   ],
   "source": [
    "acc, sens, spec, mcc, auc = cv(clf, X, y, 10) \n",
    "print(\"ACC:\"+str(acc)+\"\\n\"+\"SENS:\"+str(sens)+\"\\n\"+\"SPEC:\"+str(spec)+\"\\n\"+\"MCC:\"+str(mcc)+\"\\n\"+\"AUC:\"+str(auc)+\"\\n\")\n"
   ]
  },
  {
   "cell_type": "markdown",
   "metadata": {},
   "source": [
    "Independent test evaluation"
   ]
  },
  {
   "cell_type": "code",
   "execution_count": 7,
   "metadata": {},
   "outputs": [
    {
     "name": "stdout",
     "output_type": "stream",
     "text": [
      "ACC:0.8469387755102041\n",
      "SENS:0.8921568627450981\n",
      "SPEC:0.7978723404255319\n",
      "MCC:0.6946817915866508\n",
      "AUC:0.9207342511472674\n"
     ]
    }
   ],
   "source": [
    "acc, sens, spec, mcc, auc = test(clf, X, y, Xt, yt) \n",
    "print(\"ACC:\"+str(acc)+\"\\n\"+\"SENS:\"+str(sens)+\"\\n\"+\"SPEC:\"+str(spec)+\"\\n\"+\"MCC:\"+str(mcc)+\"\\n\"+\"AUC:\"+str(auc))\n"
   ]
  },
  {
   "cell_type": "code",
   "execution_count": null,
   "metadata": {},
   "outputs": [],
   "source": []
  }
 ],
 "metadata": {
  "kernelspec": {
   "display_name": "Python 3 (ipykernel)",
   "language": "python",
   "name": "python3"
  },
  "language_info": {
   "codemirror_mode": {
    "name": "ipython",
    "version": 3
   },
   "file_extension": ".py",
   "mimetype": "text/x-python",
   "name": "python",
   "nbconvert_exporter": "python",
   "pygments_lexer": "ipython3",
   "version": "3.7.6"
  }
 },
 "nbformat": 4,
 "nbformat_minor": 4
}
